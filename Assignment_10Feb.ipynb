{
 "cells": [
  {
   "cell_type": "markdown",
   "id": "5c1f5ffa-4ab8-42e6-a154-c6d904dfd5fb",
   "metadata": {},
   "source": [
    "## Q1. Which function is used to open a file? What are the different modes of opening a file? Explain each mode of file opening."
   ]
  },
  {
   "cell_type": "raw",
   "id": "fd2bd374-f5b4-4dd7-8b99-9a4c71bd12b6",
   "metadata": {},
   "source": [
    " Ans : open() function is used to open a file.There are 7 modes of opening a file.\n",
    "'r'       open for reading (default)\n",
    "'w'       open for writing, truncating the file first\n",
    "'x'       create a new file and open it for writing\n",
    "'a'       open for writing, appending to the end of the file if it exists\n",
    "'b'       binary mode\n",
    "'t'       text mode (default)\n",
    "'+'       open a disk file for updating (reading and writing)"
   ]
  },
  {
   "cell_type": "markdown",
   "id": "83d96260-2591-489f-b5f6-b52a3c3d6d76",
   "metadata": {},
   "source": [
    "## Q2. Why close() function is used? Why is it important to close a file?"
   ]
  },
  {
   "cell_type": "raw",
   "id": "59b63e25-29c7-4c5f-88b2-211c2b0d7c7c",
   "metadata": {},
   "source": [
    "#### close() function is used to close a file in python .It is important to close a file because sometimes the changes made in the file are not reflected until the file is closed."
   ]
  },
  {
   "cell_type": "markdown",
   "id": "68ac7b12-55d3-4181-8036-2a509644a655",
   "metadata": {},
   "source": [
    "## Q3. Write a python program to create a text file. Write ‘I want to become a Data Scientist’ in that file. Then close the file. Open this file and read the content of the file."
   ]
  },
  {
   "cell_type": "code",
   "execution_count": 1,
   "id": "d90f6b98-aa68-4d21-99ed-fbbcb9691b39",
   "metadata": {},
   "outputs": [],
   "source": [
    "with open(\"document.txt\",\"w\") as f:\n",
    "    f.write(\"I want to become a Data Scientist\")"
   ]
  },
  {
   "cell_type": "code",
   "execution_count": 2,
   "id": "be1fe397-1e27-45e0-b84e-14a9ebdeecb5",
   "metadata": {},
   "outputs": [],
   "source": [
    "f.close()"
   ]
  },
  {
   "cell_type": "code",
   "execution_count": 3,
   "id": "07e1fb8e-f408-49d5-afbf-c4edb4021866",
   "metadata": {},
   "outputs": [
    {
     "name": "stdout",
     "output_type": "stream",
     "text": [
      "I want to become a Data Scientist\n"
     ]
    }
   ],
   "source": [
    "with open(\"document.txt\",\"r\") as f:\n",
    "    print(f.read())"
   ]
  },
  {
   "cell_type": "markdown",
   "id": "53f0e460-2c23-4544-814f-462fd9be6db0",
   "metadata": {},
   "source": [
    "## Q4. Explain the following with python code: read(), readline() and readlines()."
   ]
  },
  {
   "cell_type": "raw",
   "id": "b2e2069c-1ce5-46cf-b267-a395ff6e8e1a",
   "metadata": {},
   "source": [
    " -> The read() method returns the specified number of bytes from the file. Default is -1 which means the whole file.\n",
    " -> The readline() method returns one line from the file.\n",
    " -> Readlines ( ) is a function that is used in Python to read a particular file line by line in a single go."
   ]
  },
  {
   "cell_type": "code",
   "execution_count": 16,
   "id": "6058c86d-269a-4d84-b6de-8303030cb5c4",
   "metadata": {},
   "outputs": [],
   "source": [
    "with open(\"document.txt\",\"w\") as f:\n",
    "    f.write(\"Data Science Masters course is highly curated and uniquely designed according to the latest industry standards. This program instills students the skills essential to knowledge discovery efforts to identify standard, novel, and truly differentiated solutions and decision-making, including skills in managing, querying, analyzing, visualizing, and extracting meaning from extremely large data sets. This trending program provides students with the statistical, mathematical and computational skills needed to meet the large-scale data science challenges of today's professional world. You will learn all the stack required to work in data science industry including cloud infrastructure and real-time industry projects.\")\n",
    "    f.write(\"Data science is the study of data to extract meaningful insights for business. It is a multidisciplinary approach that combines principles and practices from the fields of mathematics, statistics, artificial intelligence, and computer engineering to analyze large amounts of data.\")"
   ]
  },
  {
   "cell_type": "code",
   "execution_count": 15,
   "id": "592d5430-11c8-44d2-a064-efeaeea78fb3",
   "metadata": {},
   "outputs": [
    {
     "name": "stdout",
     "output_type": "stream",
     "text": [
      "Data Science Masters course is highly curated and uniquely designed according to the latest industry standards. This program instills students the skills essential to knowledge discovery efforts to identify standard, novel, and truly differentiated solutions and decision-making, including skills in managing, querying, analyzing, visualizing, and extracting meaning from extremely large data sets. This trending program provides students with the statistical, mathematical and computational skills needed to meet the large-scale data science challenges of today's professional world. \n",
      "You will learn all the stack required to work in data science industry including cloud infrastructure and real-time industry projects.Data science is the study of data to extract meaningful insights for business. It is a multidisciplinary approach that combines principles and practices from the fields of mathematics, statistics, artificial intelligence, and computer engineering to analyze large amounts of data.\n"
     ]
    }
   ],
   "source": [
    "with open(\"document.txt\",\"r\") as f:\n",
    "    print(f.read())"
   ]
  },
  {
   "cell_type": "code",
   "execution_count": 13,
   "id": "72e8f76e-2cb9-4e42-8b24-6cc488787f32",
   "metadata": {},
   "outputs": [
    {
     "name": "stdout",
     "output_type": "stream",
     "text": [
      "Data Science Masters course is highly curated and uniquely designed according to the latest industry standards. This program instills students the skills essential to knowledge discovery efforts to identify standard, novel, and truly differentiated solutions and decision-making, including skills in managing, querying, analyzing, visualizing, and extracting meaning from extremely large data sets. This trending program provides students with the statistical, mathematical and computational skills needed to meet the large-scale data science challenges of today's professional world. \n",
      "\n"
     ]
    }
   ],
   "source": [
    "with open(\"document.txt\",\"r\") as f:\n",
    "    print(f.readline())"
   ]
  },
  {
   "cell_type": "code",
   "execution_count": 14,
   "id": "a5ee569b-be49-427d-9541-5a5d29566437",
   "metadata": {},
   "outputs": [
    {
     "name": "stdout",
     "output_type": "stream",
     "text": [
      "[\"Data Science Masters course is highly curated and uniquely designed according to the latest industry standards. This program instills students the skills essential to knowledge discovery efforts to identify standard, novel, and truly differentiated solutions and decision-making, including skills in managing, querying, analyzing, visualizing, and extracting meaning from extremely large data sets. This trending program provides students with the statistical, mathematical and computational skills needed to meet the large-scale data science challenges of today's professional world. \\n\", 'You will learn all the stack required to work in data science industry including cloud infrastructure and real-time industry projects.Data science is the study of data to extract meaningful insights for business. It is a multidisciplinary approach that combines principles and practices from the fields of mathematics, statistics, artificial intelligence, and computer engineering to analyze large amounts of data.']\n"
     ]
    }
   ],
   "source": [
    "with open(\"document.txt\",\"r\") as f:\n",
    "    print(f.readlines())"
   ]
  },
  {
   "cell_type": "markdown",
   "id": "9ddd3df4-f505-48fa-9d99-b2237836cad3",
   "metadata": {},
   "source": [
    "## Q5. Explain why with statement is used with open(). What is the advantage of using with statement and open() together?"
   ]
  },
  {
   "cell_type": "raw",
   "id": "063a350c-d1d0-4770-ae66-f835814d1c07",
   "metadata": {},
   "source": [
    " Ans : with statement is used with open() to open a file in python.It is a way opening a file in python.Its adavantage is that it automatically closes the file with explicitelly calling close() function."
   ]
  },
  {
   "cell_type": "markdown",
   "id": "e9110b49-136a-414d-9597-d9e694bd7448",
   "metadata": {},
   "source": [
    "## Q6. Explain the write() and writelines() functions. Give a suitable example."
   ]
  },
  {
   "cell_type": "raw",
   "id": "ec34100a-9203-4963-8b90-f291c4a47372",
   "metadata": {},
   "source": [
    " Ans : write() function is used to write in a file. The writelines() method writes the items of a list to the file.Where the    texts will be inserted depends on the file mode and stream position."
   ]
  },
  {
   "cell_type": "code",
   "execution_count": 24,
   "id": "0f495dca-7d7b-46a5-b09a-0159bb93f86d",
   "metadata": {},
   "outputs": [],
   "source": [
    "with open(\"text1.txt\",\"w\") as f:\n",
    "    f.write(\"Hello, Dhruv Tyagi this side.\\n\")"
   ]
  },
  {
   "cell_type": "code",
   "execution_count": 25,
   "id": "b635cba4-e6fe-4c4b-a647-9433d7e1016f",
   "metadata": {},
   "outputs": [],
   "source": [
    "with open(\"text1.txt\",\"a\") as f:\n",
    "    f.writelines([\"This is my 10 February Assignment\\n\",\"Good Evening to all\\n\"])"
   ]
  }
 ],
 "metadata": {
  "kernelspec": {
   "display_name": "Python 3 (ipykernel)",
   "language": "python",
   "name": "python3"
  },
  "language_info": {
   "codemirror_mode": {
    "name": "ipython",
    "version": 3
   },
   "file_extension": ".py",
   "mimetype": "text/x-python",
   "name": "python",
   "nbconvert_exporter": "python",
   "pygments_lexer": "ipython3",
   "version": "3.10.8"
  }
 },
 "nbformat": 4,
 "nbformat_minor": 5
}
